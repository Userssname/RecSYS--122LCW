{
 "cells": [
  {
   "cell_type": "code",
   "execution_count": 1,
   "metadata": {},
   "outputs": [],
   "source": [
    "import pdb\n",
    "import csv\n",
    "import time"
   ]
  },
  {
   "cell_type": "code",
   "execution_count": 2,
   "metadata": {},
   "outputs": [],
   "source": [
    "def getData(collection,key,default):\n",
    "    if key in collection:\n",
    "        value = collection[key]\n",
    "    else:\n",
    "        value = default\n",
    "    return value\n",
    "    \n",
    "start_time = time.time()\n",
    "rating_file = \"user_ratings.csv\"\n",
    "\n",
    "result = {}\n",
    "ids = []\n",
    "headers = []\n",
    "#read the source file, then store it in mem\n",
    "with open(rating_file) as csvfile:\n",
    "    csv_reader = csv.reader(csvfile)  \n",
    "    rating_header = next(csv_reader)  \n",
    "    i=0\n",
    "    for row in csv_reader:  \n",
    "        i=i+1\n",
    "        id,name,value = row\n",
    "        \n",
    "        if id in result:\n",
    "            user_data=result[id]\n",
    "        else:\n",
    "            user_data={}\n",
    "            result[id]=user_data\n",
    "            ids.append(id)\n",
    "        if name in user_data:\n",
    "            #in case some error data, warn and debug\n",
    "            pdb.set_trace()\n",
    "        else:\n",
    "            user_data[name]=value\n",
    "        if not name in headers:\n",
    "            headers.append(name)\n",
    "\n",
    "#sort the rows and columns          \n",
    "ids.sort()\n",
    "headers.sort()"
   ]
  },
  {
   "cell_type": "code",
   "execution_count": 3,
   "metadata": {},
   "outputs": [],
   "source": [
    "#print result to csv\n",
    "with open('user_data.csv', \"w\", newline='') as f:\n",
    "    writer = csv.writer(f)\n",
    "    # write headers\n",
    "    csv_headers =['USER_ID']\n",
    "    csv_headers.extend(headers)\n",
    "    \n",
    "    writer.writerows([csv_headers])\n",
    "    i=0\n",
    "    for id in ids:\n",
    "        i=i+1\n",
    "        csv_data = [id]\n",
    "        user_data = result[id]\n",
    "        for key in headers:\n",
    "            csv_data.append(getData(user_data,key,''))\n",
    "        \n",
    "        writer.writerows([csv_data])\n",
    "\n",
    "    f.close()\n"
   ]
  },
  {
   "cell_type": "code",
   "execution_count": null,
   "metadata": {},
   "outputs": [],
   "source": []
  }
 ],
 "metadata": {
  "kernelspec": {
   "display_name": "Python 3",
   "language": "python",
   "name": "python3"
  },
  "language_info": {
   "codemirror_mode": {
    "name": "ipython",
    "version": 3
   },
   "file_extension": ".py",
   "mimetype": "text/x-python",
   "name": "python",
   "nbconvert_exporter": "python",
   "pygments_lexer": "ipython3",
   "version": "3.7.3"
  }
 },
 "nbformat": 4,
 "nbformat_minor": 2
}
